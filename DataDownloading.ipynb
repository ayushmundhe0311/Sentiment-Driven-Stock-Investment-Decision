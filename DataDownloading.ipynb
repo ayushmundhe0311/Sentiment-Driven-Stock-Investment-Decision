{
 "cells": [
  {
   "cell_type": "code",
   "execution_count": 1,
   "metadata": {},
   "outputs": [],
   "source": [
    "import yfinance as yf\n",
    "import os "
   ]
  },
  {
   "cell_type": "code",
   "execution_count": 2,
   "metadata": {},
   "outputs": [],
   "source": [
    "os.makedirs(\"stocks_data\", exist_ok=True)"
   ]
  },
  {
   "cell_type": "code",
   "execution_count": 3,
   "metadata": {},
   "outputs": [],
   "source": [
    "tickers = [\"RELIANCE.NS\", \"TCS.NS\", \"INFY.NS\", \"HDFCBANK.NS\", \"ICICIBANK.NS\",\n",
    "           \"LT.NS\", \"SBIN.NS\", \"HINDUNILVR.NS\", \"TATAMOTORS.NS\", \"BHARTIARTL.NS\"]\n"
   ]
  },
  {
   "cell_type": "code",
   "execution_count": 4,
   "metadata": {},
   "outputs": [
    {
     "name": "stdout",
     "output_type": "stream",
     "text": [
      "Downloading RELIANCE.NS...\n",
      "YF.download() has changed argument auto_adjust default to True\n"
     ]
    },
    {
     "name": "stderr",
     "output_type": "stream",
     "text": [
      "[*********************100%***********************]  1 of 1 completed\n"
     ]
    },
    {
     "name": "stdout",
     "output_type": "stream",
     "text": [
      "Downloading TCS.NS...\n"
     ]
    },
    {
     "name": "stderr",
     "output_type": "stream",
     "text": [
      "[*********************100%***********************]  1 of 1 completed\n"
     ]
    },
    {
     "name": "stdout",
     "output_type": "stream",
     "text": [
      "Downloading INFY.NS...\n"
     ]
    },
    {
     "name": "stderr",
     "output_type": "stream",
     "text": [
      "[*********************100%***********************]  1 of 1 completed\n"
     ]
    },
    {
     "name": "stdout",
     "output_type": "stream",
     "text": [
      "Downloading HDFCBANK.NS...\n"
     ]
    },
    {
     "name": "stderr",
     "output_type": "stream",
     "text": [
      "[*********************100%***********************]  1 of 1 completed\n"
     ]
    },
    {
     "name": "stdout",
     "output_type": "stream",
     "text": [
      "Downloading ICICIBANK.NS...\n"
     ]
    },
    {
     "name": "stderr",
     "output_type": "stream",
     "text": [
      "[*********************100%***********************]  1 of 1 completed\n"
     ]
    },
    {
     "name": "stdout",
     "output_type": "stream",
     "text": [
      "Downloading LT.NS...\n"
     ]
    },
    {
     "name": "stderr",
     "output_type": "stream",
     "text": [
      "[*********************100%***********************]  1 of 1 completed\n"
     ]
    },
    {
     "name": "stdout",
     "output_type": "stream",
     "text": [
      "Downloading SBIN.NS...\n"
     ]
    },
    {
     "name": "stderr",
     "output_type": "stream",
     "text": [
      "[*********************100%***********************]  1 of 1 completed\n"
     ]
    },
    {
     "name": "stdout",
     "output_type": "stream",
     "text": [
      "Downloading HINDUNILVR.NS...\n"
     ]
    },
    {
     "name": "stderr",
     "output_type": "stream",
     "text": [
      "[*********************100%***********************]  1 of 1 completed\n"
     ]
    },
    {
     "name": "stdout",
     "output_type": "stream",
     "text": [
      "Downloading TATAMOTORS.NS...\n"
     ]
    },
    {
     "name": "stderr",
     "output_type": "stream",
     "text": [
      "[*********************100%***********************]  1 of 1 completed\n"
     ]
    },
    {
     "name": "stdout",
     "output_type": "stream",
     "text": [
      "Downloading BHARTIARTL.NS...\n"
     ]
    },
    {
     "name": "stderr",
     "output_type": "stream",
     "text": [
      "[*********************100%***********************]  1 of 1 completed\n"
     ]
    }
   ],
   "source": [
    "for ticker in tickers:\n",
    "    print(f\"Downloading {ticker}...\")\n",
    "    df = yf.download(ticker, start=\"2019-01-01\", end=\"2025-04-23\")\n",
    "    df.reset_index(inplace=True)\n",
    "    df[\"Symbol\"] = ticker\n",
    "    df.to_csv(f\"stocks_data/{ticker.replace('.', '_')}.csv\", index=False)"
   ]
  },
  {
   "cell_type": "code",
   "execution_count": 5,
   "metadata": {},
   "outputs": [],
   "source": [
    "import pandas as pd"
   ]
  },
  {
   "cell_type": "code",
   "execution_count": 6,
   "metadata": {},
   "outputs": [
    {
     "name": "stdout",
     "output_type": "stream",
     "text": [
      "✅ Merged and cleaned pivot dataset saved as 'data.csv'\n"
     ]
    }
   ],
   "source": [
    "folder_path = \"./stocks_data/\"\n",
    "all_data = []\n",
    "import pandas as pd\n",
    "import os\n",
    "\n",
    "folder_path = \"./stocks_data/\"\n",
    "pivot_df = pd.DataFrame()\n",
    "\n",
    "for file in os.listdir(folder_path):\n",
    "    if file.endswith(\".csv\"):\n",
    "        symbol = file.replace(\".csv\", \"\")\n",
    "        df = pd.read_csv(os.path.join(folder_path, file), header=1)  # ✅ Skip 2nd row\n",
    "        df.columns = [\"Date\", \"Close\", \"High\", \"Low\", \"Open\", \"Volume\", \"Symbol\"]  # ✅ Rename cleanly\n",
    "        \n",
    "        df = df[[\"Date\", \"Close\", \"Volume\"]]\n",
    "        df.rename(columns={\n",
    "            \"Close\": f\"{symbol}_Close\",\n",
    "            \"Volume\": f\"{symbol}_Volume\"\n",
    "        }, inplace=True)\n",
    "        \n",
    "        if pivot_df.empty:\n",
    "            pivot_df = df\n",
    "        else:\n",
    "            pivot_df = pd.merge(pivot_df, df, on=\"Date\", how=\"outer\")\n",
    "\n",
    "pivot_df.sort_values(\"Date\", inplace=True)\n",
    "pivot_df.to_csv(\"data.csv\", index=False)\n",
    "print(\"✅ Merged and cleaned pivot dataset saved as 'data.csv'\")\n"
   ]
  },
  {
   "cell_type": "code",
   "execution_count": null,
   "metadata": {},
   "outputs": [],
   "source": []
  }
 ],
 "metadata": {
  "kernelspec": {
   "display_name": "env",
   "language": "python",
   "name": "python3"
  },
  "language_info": {
   "codemirror_mode": {
    "name": "ipython",
    "version": 3
   },
   "file_extension": ".py",
   "mimetype": "text/x-python",
   "name": "python",
   "nbconvert_exporter": "python",
   "pygments_lexer": "ipython3",
   "version": "3.12.8"
  }
 },
 "nbformat": 4,
 "nbformat_minor": 2
}
